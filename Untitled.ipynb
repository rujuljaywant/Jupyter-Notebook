{
 "cells": [
  {
   "cell_type": "code",
   "execution_count": null,
   "id": "90f690fb-bd92-4e72-8052-4748ae84c884",
   "metadata": {},
   "outputs": [],
   "source": []
  }
 ],
 "metadata": {
  "kernelspec": {
   "display_name": "",
   "name": ""
  },
  "language_info": {
   "name": ""
  }
 },
 "nbformat": 4,
 "nbformat_minor": 5
}
