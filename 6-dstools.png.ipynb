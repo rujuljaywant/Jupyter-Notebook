{
 "cells": [
  {
   "cell_type": "markdown",
   "id": "b9763498-750c-47c0-b4e9-2c065b3f4350",
   "metadata": {},
   "source": [
    "## Data Science Tools\n",
    "\n",
    "| Tool           | Category              |\n",
    "|----------------|-----------------------|\n",
    "| JupyterLab     | Notebook Environment  |\n",
    "| RStudio        | IDE                   |\n",
    "| VS Code        | Code Editor           |\n",
    "| Apache Spark   | Big Data Processing   |\n",
    "| TensorFlow     | Machine Learning      |\n"
   ]
  },
  {
   "cell_type": "code",
   "execution_count": null,
   "id": "a089dcc2-22df-4be4-b6d3-04ea5200d02b",
   "metadata": {},
   "outputs": [],
   "source": []
  }
 ],
 "metadata": {
  "kernelspec": {
   "display_name": "Python 3 (ipykernel)",
   "language": "python",
   "name": "python3"
  },
  "language_info": {
   "codemirror_mode": {
    "name": "ipython",
    "version": 3
   },
   "file_extension": ".py",
   "mimetype": "text/x-python",
   "name": "python",
   "nbconvert_exporter": "python",
   "pygments_lexer": "ipython3",
   "version": "3.13.3"
  }
 },
 "nbformat": 4,
 "nbformat_minor": 5
}
