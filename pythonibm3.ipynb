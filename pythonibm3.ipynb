{
 "cells": [
  {
   "cell_type": "code",
   "execution_count": 1,
   "id": "31392b19-9dc2-436c-9f6d-2c4fbb2bab33",
   "metadata": {},
   "outputs": [],
   "source": [
    "# Question 1: Use yfinance to Extract Tesla Stock Data\n",
    "import yfinance as yf\n",
    "import pandas as pd"
   ]
  },
  {
   "cell_type": "code",
   "execution_count": 2,
   "id": "3635a9bd-dd63-4c64-923b-8a2ffb6f8c10",
   "metadata": {},
   "outputs": [
    {
     "name": "stdout",
     "output_type": "stream",
     "text": [
      "Tesla Stock Data:\n",
      "                       Date      Open      High       Low     Close  \\\n",
      "0 2010-06-29 00:00:00-04:00  1.266667  1.666667  1.169333  1.592667   \n",
      "1 2010-06-30 00:00:00-04:00  1.719333  2.028000  1.553333  1.588667   \n",
      "2 2010-07-01 00:00:00-04:00  1.666667  1.728000  1.351333  1.464000   \n",
      "3 2010-07-02 00:00:00-04:00  1.533333  1.540000  1.247333  1.280000   \n",
      "4 2010-07-06 00:00:00-04:00  1.333333  1.333333  1.055333  1.074000   \n",
      "\n",
      "      Volume  Dividends  Stock Splits  \n",
      "0  281494500        0.0           0.0  \n",
      "1  257806500        0.0           0.0  \n",
      "2  123282000        0.0           0.0  \n",
      "3   77097000        0.0           0.0  \n",
      "4  103003500        0.0           0.0  \n"
     ]
    }
   ],
   "source": [
    "tesla = yf.Ticker(\"TSLA\")\n",
    "tesla_data = tesla.history(period=\"max\")\n",
    "tesla_data.reset_index(inplace=True)\n",
    "print(\"Tesla Stock Data:\")\n",
    "print(tesla_data.head())"
   ]
  },
  {
   "cell_type": "code",
   "execution_count": 16,
   "id": "f757931f-9fa5-46de-bd77-c7cc90a65052",
   "metadata": {},
   "outputs": [],
   "source": [
    "from bs4 import BeautifulSoup\n",
    "import requests\n",
    "from io import StringIO"
   ]
  },
  {
   "cell_type": "code",
   "execution_count": 17,
   "id": "a15ce879-3411-40d7-be08-f5a0f0813016",
   "metadata": {},
   "outputs": [],
   "source": [
    "url_tesla = \"https://www.macrotrends.net/stocks/charts/TSLA/tesla/revenue\"\n",
    "html_data = requests.get(url_tesla).text"
   ]
  },
  {
   "cell_type": "code",
   "execution_count": 18,
   "id": "bcd1aef4-7a80-468b-8c83-480912780e63",
   "metadata": {},
   "outputs": [],
   "source": [
    "soup = BeautifulSoup(html_data, \"html.parser\")"
   ]
  },
  {
   "cell_type": "code",
   "execution_count": 19,
   "id": "bad5ad5b-03a8-4d96-969b-676b25a9fa8a",
   "metadata": {},
   "outputs": [],
   "source": [
    "tables = soup.find_all(\"table\", {\"class\": \"historical_data_table\"})\n"
   ]
  },
  {
   "cell_type": "code",
   "execution_count": 20,
   "id": "34f63fa5-4c54-4aa4-afcf-3045ac5db7dd",
   "metadata": {},
   "outputs": [],
   "source": [
    "# Step 4: Find the table that contains 'Revenue'\n",
    "tesla_revenue = None\n",
    "for table in tables:\n",
    "    if \"Revenue\" in table.columns or table.astype(str).apply(lambda x: x.str.contains(\"Revenue\").any()).any():\n",
    "        tesla_revenue = table\n",
    "        break"
   ]
  },
  {
   "cell_type": "code",
   "execution_count": 21,
   "id": "d8aebbe1-0860-4706-b9aa-8bd8b1c5dd8b",
   "metadata": {},
   "outputs": [
    {
     "name": "stdout",
     "output_type": "stream",
     "text": [
      "Revenue table not found.\n"
     ]
    }
   ],
   "source": [
    "# Step 5: Clean the revenue data\n",
    "if tesla_revenue is not None:\n",
    "    tesla_revenue.columns = [\"Date\", \"Revenue\"]  # fix column names\n",
    "    tesla_revenue[\"Revenue\"] = tesla_revenue[\"Revenue\"].str.replace(\",\", \"\").str.replace(\"$\", \"\")\n",
    "    tesla_revenue.dropna(inplace=True)\n",
    "    tesla_revenue = tesla_revenue[tesla_revenue[\"Revenue\"] != \"\"]\n",
    "    print(tesla_revenue.head())\n",
    "else:\n",
    "    print(\"Revenue table not found.\")"
   ]
  },
  {
   "cell_type": "code",
   "execution_count": null,
   "id": "8545e0e0-df18-4b71-ba08-3e770e5603ff",
   "metadata": {},
   "outputs": [],
   "source": []
  },
  {
   "cell_type": "code",
   "execution_count": 6,
   "id": "08c3aaa4-73aa-4cc6-abf4-ca2b6a39f9ce",
   "metadata": {},
   "outputs": [],
   "source": [
    "gme = yf.Ticker(\"GME\")\n",
    "gme_data = gme.history(period=\"max\")\n",
    "gme_data.reset_index(inplace=True)"
   ]
  },
  {
   "cell_type": "code",
   "execution_count": 7,
   "id": "05b93efb-74bb-4e86-ae5e-ce5e19da938e",
   "metadata": {},
   "outputs": [
    {
     "name": "stdout",
     "output_type": "stream",
     "text": [
      "\n",
      "GameStop Stock Data:\n",
      "                       Date      Open      High       Low     Close    Volume  \\\n",
      "0 2002-02-13 00:00:00-05:00  1.620128  1.693350  1.603296  1.691666  76216000   \n",
      "1 2002-02-14 00:00:00-05:00  1.712707  1.716074  1.670626  1.683250  11021600   \n",
      "2 2002-02-15 00:00:00-05:00  1.683250  1.687458  1.658001  1.674834   8389600   \n",
      "3 2002-02-19 00:00:00-05:00  1.666418  1.666418  1.578047  1.607504   7410400   \n",
      "4 2002-02-20 00:00:00-05:00  1.615920  1.662210  1.603296  1.662210   6892800   \n",
      "\n",
      "   Dividends  Stock Splits  \n",
      "0        0.0           0.0  \n",
      "1        0.0           0.0  \n",
      "2        0.0           0.0  \n",
      "3        0.0           0.0  \n",
      "4        0.0           0.0  \n"
     ]
    }
   ],
   "source": [
    "print(\"\\nGameStop Stock Data:\")\n",
    "print(gme_data.head())   # 👈 First five rows"
   ]
  },
  {
   "cell_type": "code",
   "execution_count": null,
   "id": "359254f1-2005-4af4-920d-5f8d6c8ad26a",
   "metadata": {},
   "outputs": [],
   "source": []
  }
 ],
 "metadata": {
  "kernelspec": {
   "display_name": "Python 3 (ipykernel)",
   "language": "python",
   "name": "python3"
  },
  "language_info": {
   "codemirror_mode": {
    "name": "ipython",
    "version": 3
   },
   "file_extension": ".py",
   "mimetype": "text/x-python",
   "name": "python",
   "nbconvert_exporter": "python",
   "pygments_lexer": "ipython3",
   "version": "3.13.3"
  }
 },
 "nbformat": 4,
 "nbformat_minor": 5
}
