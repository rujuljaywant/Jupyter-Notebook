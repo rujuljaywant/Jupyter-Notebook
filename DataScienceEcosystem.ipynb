{
 "cells": [
  {
   "cell_type": "markdown",
   "id": "94d01ba8-e481-440d-8d9b-1db066b0941a",
   "metadata": {},
   "source": [
    "# Data Science Tools and Ecosystem\n"
   ]
  },
  {
   "cell_type": "markdown",
   "id": "70eb383e-c81b-44a7-b551-6ebdde5d8a7a",
   "metadata": {},
   "source": [
    "## Introduction\n",
    "In this notebook, we will explore different tools, languages, and libraries that are commonly used in data science. We will also perform some simple arithmetic operations and unit conversions.\n"
   ]
  },
  {
   "cell_type": "markdown",
   "id": "4ff28e8b-66f0-4c29-ba40-ec9e8b8878f0",
   "metadata": {},
   "source": [
    "## Data Science Languages\n",
    "Some of the popular languages used in Data Science are:\n",
    "- Python\n",
    "- R\n",
    "- SQL\n",
    "- Julia\n",
    "- Scala\n"
   ]
  },
  {
   "cell_type": "markdown",
   "id": "22116f36-d851-4698-929b-db409ce10a8e",
   "metadata": {},
   "source": [
    "## Data Science Libraries\n",
    "Some commonly used libraries in Data Science include:\n",
    "- Pandas\n",
    "- NumPy\n",
    "- Matplotlib\n",
    "- Scikit-learn\n",
    "- TensorFlow\n"
   ]
  },
  {
   "cell_type": "markdown",
   "id": "8504b92e-9865-4a72-ab36-3356aea9af79",
   "metadata": {},
   "source": [
    "## Data Science Tools\n",
    "| Tool           | Description                        |\n",
    "|----------------|------------------------------------|\n",
    "| Jupyter Notebook | Interactive coding environment |\n",
    "| RStudio        | IDE for R programming             |\n",
    "| Apache Spark   | Big data processing framework     |\n",
    "| TensorFlow     | Machine learning framework        |\n"
   ]
  },
  {
   "cell_type": "markdown",
   "id": "d328e012-ca39-482d-a274-69f14ef8942c",
   "metadata": {},
   "source": [
    "## Arithmetic Expression Examples\n",
    "Below are some examples of evaluating arithmetic expressions in Python.\n"
   ]
  },
  {
   "cell_type": "code",
   "execution_count": 6,
   "id": "bbcaeab6-b9fd-4a51-9f66-01d17113eb7a",
   "metadata": {},
   "outputs": [
    {
     "data": {
      "text/plain": [
       "17"
      ]
     },
     "execution_count": 6,
     "metadata": {},
     "output_type": "execute_result"
    }
   ],
   "source": [
    "# Multiply and add numbers\n",
    "(3 * 4) + 5\n"
   ]
  },
  {
   "cell_type": "code",
   "execution_count": 7,
   "id": "ab72bb50-e0bb-4aad-98ce-c32a6d5a0d85",
   "metadata": {},
   "outputs": [
    {
     "data": {
      "text/plain": [
       "3.3333333333333335"
      ]
     },
     "execution_count": 7,
     "metadata": {},
     "output_type": "execute_result"
    }
   ],
   "source": [
    "# Convert minutes to hours\n",
    "minutes = 200\n",
    "hours = minutes / 60\n",
    "hours\n"
   ]
  },
  {
   "cell_type": "markdown",
   "id": "e4aae74e-26ae-430b-b4b8-0ac9bc117caf",
   "metadata": {},
   "source": [
    "## Objectives\n",
    "- List popular languages for Data Science\n",
    "- List commonly used libraries\n",
    "- Create a table of Data Science tools\n",
    "- Perform simple arithmetic expressions\n",
    "- Convert minutes to hours using Python\n"
   ]
  },
  {
   "cell_type": "markdown",
   "id": "86988a06-88c5-4f8e-8a8e-46d623313e9b",
   "metadata": {},
   "source": [
    "## Author\n",
    "Rujul Jaywant\n"
   ]
  },
  {
   "cell_type": "code",
   "execution_count": null,
   "id": "13b18091-2d4f-44ff-bcd1-5e7ad03c2c65",
   "metadata": {},
   "outputs": [],
   "source": []
  }
 ],
 "metadata": {
  "kernelspec": {
   "display_name": "Python 3 (ipykernel)",
   "language": "python",
   "name": "python3"
  },
  "language_info": {
   "codemirror_mode": {
    "name": "ipython",
    "version": 3
   },
   "file_extension": ".py",
   "mimetype": "text/x-python",
   "name": "python",
   "nbconvert_exporter": "python",
   "pygments_lexer": "ipython3",
   "version": "3.13.3"
  }
 },
 "nbformat": 4,
 "nbformat_minor": 5
}
